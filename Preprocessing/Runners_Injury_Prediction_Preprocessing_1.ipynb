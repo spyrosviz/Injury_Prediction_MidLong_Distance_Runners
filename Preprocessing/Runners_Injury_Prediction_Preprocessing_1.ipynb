{
  "nbformat": 4,
  "nbformat_minor": 0,
  "metadata": {
    "colab": {
      "name": "Runners_Injury_Prediction_Preprocessing_1.ipynb",
      "provenance": [],
      "collapsed_sections": [],
      "mount_file_id": "1vYFOXs5dPWV3gq01Ite8zfbZ_QgTRULw",
      "authorship_tag": "ABX9TyMCW2IomCg3Rt/zwog1JmNm",
      "include_colab_link": true
    },
    "kernelspec": {
      "display_name": "Python 3",
      "name": "python3"
    },
    "language_info": {
      "name": "python"
    }
  },
  "cells": [
    {
      "cell_type": "markdown",
      "metadata": {
        "id": "view-in-github",
        "colab_type": "text"
      },
      "source": [
        "<a href=\"https://colab.research.google.com/github/spyrosviz/Injury_Prediction_MidLong_Distance_Runners/blob/main/Preprocessing/Runners_Injury_Prediction_Preprocessing_1.ipynb\" target=\"_parent\"><img src=\"https://colab.research.google.com/assets/colab-badge.svg\" alt=\"Open In Colab\"/></a>"
      ]
    },
    {
      "cell_type": "markdown",
      "metadata": {
        "id": "baCeMAZM4Atx"
      },
      "source": [
        "# **1. PREPROCESSING**\n",
        " \n",
        " ## We will start by importing the daily excel, which contains variables from 74 athletes on daily basis. We will use some of that data to construct 4 new features related to load. Training load is usually defined as training duration x perceived exertion in the literature and has arbitary units. However since in this dataset there is no information regarding training duration we will use total running distance instead to construct the following new features\n",
        "* **Total weekly running distance**\n",
        "* **Acute Load (Seven day average of training loads)**\n",
        "* **Monotony (Seven day average of training loads / SD of the training loads)**\n",
        "* **Strain (Seven day average of training loads squared / SD of the training loads)**"
      ]
    },
    {
      "cell_type": "code",
      "source": [
        "# Import libraries\n",
        "import pandas as pd\n",
        "import numpy as np"
      ],
      "metadata": {
        "id": "B09q4iTiYKdW"
      },
      "execution_count": null,
      "outputs": []
    },
    {
      "cell_type": "code",
      "metadata": {
        "id": "unjBMahy30wC"
      },
      "source": [
        "# Sort dataframe by athlete id and date\n",
        "df_daily = pd.read_excel(r'/content/drive/MyDrive/Runners_Injury_MLproject/MidLongDistanceRunnersInjuryDaily.xlsx',index_col=0)\n",
        "\n",
        "# Replace -0.01 with 0 in some columns. For example in perceived exertion column, when it's not a training day it should have a value of 0.\n",
        "# Instead the cell value has been filled with -0.01 so we replace it with 0 \n",
        "df_daily.replace(-0.01,0,inplace=True)\n",
        "df_daily = df_daily.sort_values(by=['Athlete ID','Date'])\n",
        "\n",
        "df_counts = df_daily.groupby('Athlete ID').count()\n",
        "no_days_per_athl = df_counts['Date'].values\n",
        "\n",
        "# Print days for athlete id = 0. We observe that not all days are sequential\n",
        "print(df_daily[df_daily['Athlete ID']==0]['Date'].values)"
      ],
      "execution_count": null,
      "outputs": []
    },
    {
      "cell_type": "code",
      "source": [
        "df_daily.to_excel('Daily_Injury_Clean.xlsx',columns = df_daily.columns)"
      ],
      "metadata": {
        "id": "-RxRHKbmJvR_"
      },
      "execution_count": null,
      "outputs": []
    },
    {
      "cell_type": "code",
      "metadata": {
        "id": "OYPQXOA2SJX3"
      },
      "source": [
        "def loads(idx,no_date):\n",
        "  array_dist = np.array([float(df_daily[(df_daily['Athlete ID']==id) & (df_daily['Date']==day)]['total km'].values[0]), float(df_daily[(df_daily['Athlete ID']==id) & (df_daily['Date']==day)]['total km.1'].values[0]),\n",
        "  float(df_daily[(df_daily['Athlete ID']==id) & (df_daily['Date']==day)]['total km.2'].values[0]), float(df_daily[(df_daily['Athlete ID']==id) & (df_daily['Date']==day)]['total km.3'].values[0]), float(df_daily[(df_daily['Athlete ID']==id) & (df_daily['Date']==day)]['total km.4'].values[0]),\n",
        "  float(df_daily[(df_daily['Athlete ID']==id) & (df_daily['Date']==day)]['total km.5'].values[0]), float(df_daily[(df_daily['Athlete ID']==id) & (df_daily['Date']==day)]['total km.6'].values[0])])\n",
        "\n",
        "  array_perc_exert = np.array([df_daily[(df_daily['Athlete ID']==id) & (df_daily['Date']==day)]['perceived exertion'].values[0], df_daily[(df_daily['Athlete ID']==id) & (df_daily['Date']==day)]['perceived exertion.1'].values[0],\n",
        "  df_daily[(df_daily['Athlete ID']==id) & (df_daily['Date']==day)]['perceived exertion.2'].values[0], df_daily[(df_daily['Athlete ID']==id) & (df_daily['Date']==day)]['perceived exertion.3'].values[0], df_daily[(df_daily['Athlete ID']==id) & (df_daily['Date']==day)]['perceived exertion.4'].values[0],\n",
        "  df_daily[(df_daily['Athlete ID']==id) & (df_daily['Date']==day)]['perceived exertion.5'].values[0], df_daily[(df_daily['Athlete ID']==id) & (df_daily['Date']==day)]['perceived exertion.6'].values[0]])\n",
        "\n",
        "  array_train_loads = array_dist * array_perc_exert\n",
        "\n",
        "  total_dist =  np.sum(array_dist)\n",
        "\n",
        "  act_load = np.mean(array_train_loads)\n",
        "\n",
        "  if np.std(array_train_loads) != 0:\n",
        "    monotn = np.mean(array_train_loads) / np.std(array_train_loads)\n",
        "    strain = (np.mean(array_train_loads) ** 2) / np.std(array_train_loads)\n",
        "  else:\n",
        "    monotn = np.nan\n",
        "    strain = np.nan\n",
        "\n",
        "  lista = [total_dist, act_load, monotn, strain]\n",
        "\n",
        "  return lista"
      ],
      "execution_count": null,
      "outputs": []
    },
    {
      "cell_type": "code",
      "metadata": {
        "colab": {
          "background_save": true,
          "base_uri": "https://localhost:8080/"
        },
        "id": "2PetT1K1SQP2",
        "outputId": "4f324d82-b7a2-42ca-f1ae-51b88066da3e"
      },
      "source": [
        "acute_load = []\n",
        "total_weekly_dist = []\n",
        "monotony = []\n",
        "strain = []\n",
        "\n",
        "num_of_athletes = 74\n",
        "for id in range(num_of_athletes):\n",
        "  print(f'Athlete ID is {id}.')\n",
        "  for day in df_daily[df_daily['Athlete ID']==id]['Date'].values:\n",
        "\n",
        "    tot_dist = loads(id,day)[0]\n",
        "    total_weekly_dist.append(tot_dist)\n",
        "\n",
        "    act_load = loads(id,day)[1]\n",
        "    acute_load.append(act_load)\n",
        "\n",
        "    monotn = loads(id,day)[2]\n",
        "    monotony.append(monotn)\n",
        "\n",
        "    strn = loads(id,day)[3]\n",
        "    strain.append(strn)\n",
        "\n",
        "df_daily['Acute Load'] = np.array(acute_load)\n",
        "df_daily['Total Weekly Distance'] = np.array(total_weekly_dist)\n",
        "df_daily['Monotony'] = np.array(monotony)\n",
        "df_daily['Strain'] = np.array(strain)\n",
        "\n",
        "print(df_daily.head)"
      ],
      "execution_count": null,
      "outputs": [
        {
          "name": "stdout",
          "output_type": "stream",
          "text": [
            "Athlete ID is 0.\n",
            "Athlete ID is 1.\n",
            "Athlete ID is 2.\n",
            "Athlete ID is 3.\n",
            "Athlete ID is 4.\n",
            "Athlete ID is 5.\n",
            "Athlete ID is 6.\n",
            "Athlete ID is 7.\n",
            "Athlete ID is 8.\n",
            "Athlete ID is 9.\n",
            "Athlete ID is 10.\n",
            "Athlete ID is 11.\n",
            "Athlete ID is 12.\n",
            "Athlete ID is 13.\n",
            "Athlete ID is 14.\n",
            "Athlete ID is 15.\n",
            "Athlete ID is 16.\n",
            "Athlete ID is 17.\n",
            "Athlete ID is 18.\n",
            "Athlete ID is 19.\n",
            "Athlete ID is 20.\n",
            "Athlete ID is 21.\n",
            "Athlete ID is 22.\n",
            "Athlete ID is 23.\n",
            "Athlete ID is 24.\n",
            "Athlete ID is 25.\n",
            "Athlete ID is 26.\n",
            "Athlete ID is 27.\n",
            "Athlete ID is 28.\n",
            "Athlete ID is 29.\n",
            "Athlete ID is 30.\n",
            "Athlete ID is 31.\n",
            "Athlete ID is 32.\n",
            "Athlete ID is 33.\n",
            "Athlete ID is 34.\n",
            "Athlete ID is 35.\n",
            "Athlete ID is 36.\n",
            "Athlete ID is 37.\n",
            "Athlete ID is 38.\n",
            "Athlete ID is 39.\n",
            "Athlete ID is 40.\n",
            "Athlete ID is 41.\n",
            "Athlete ID is 42.\n",
            "Athlete ID is 43.\n",
            "Athlete ID is 44.\n",
            "Athlete ID is 45.\n",
            "Athlete ID is 46.\n",
            "Athlete ID is 47.\n",
            "Athlete ID is 48.\n",
            "Athlete ID is 49.\n",
            "Athlete ID is 50.\n",
            "Athlete ID is 51.\n",
            "Athlete ID is 52.\n",
            "Athlete ID is 53.\n",
            "Athlete ID is 54.\n",
            "Athlete ID is 55.\n",
            "Athlete ID is 56.\n",
            "Athlete ID is 57.\n",
            "Athlete ID is 58.\n",
            "Athlete ID is 59.\n",
            "Athlete ID is 60.\n",
            "Athlete ID is 61.\n",
            "Athlete ID is 62.\n",
            "Athlete ID is 63.\n",
            "Athlete ID is 64.\n",
            "Athlete ID is 65.\n",
            "Athlete ID is 66.\n",
            "Athlete ID is 67.\n",
            "Athlete ID is 68.\n",
            "Athlete ID is 69.\n",
            "Athlete ID is 70.\n",
            "Athlete ID is 71.\n",
            "Athlete ID is 72.\n",
            "Athlete ID is 73.\n",
            "<bound method NDFrame.head of        nr. sessions  total km  ...  Monotony    Strain\n",
            "0                 1       5.8  ...  0.550653  0.192099\n",
            "1                 0       0.0  ...  0.529376  0.175753\n",
            "2                 1       0.0  ...  0.529376  0.175753\n",
            "3                 0       0.0  ...  0.529376  0.175753\n",
            "4                 1       0.0  ...  0.744251  0.452930\n",
            "...             ...       ...  ...       ...       ...\n",
            "42178             0       0.0  ...  0.832279  2.389117\n",
            "42179             1       8.0  ...  0.900571  2.713936\n",
            "42180             1      14.7  ...  0.943715  3.588140\n",
            "42181             1      12.2  ...  0.845264  3.000806\n",
            "42182             1       9.3  ...  1.034092  5.335174\n",
            "\n",
            "[42766 rows x 77 columns]>\n"
          ]
        }
      ]
    },
    {
      "cell_type": "code",
      "metadata": {
        "colab": {
          "base_uri": "https://localhost:8080/"
        },
        "id": "mPXZzauPAsc0",
        "outputId": "acdd5570-ac19-4c3b-8b4f-59e27f0f2a1c"
      },
      "source": [
        "# Print dataframe's original shape\n",
        "print(f'Original df shape is {df_daily.shape}')\n",
        "\n",
        "# Print number of samples containing na values\n",
        "print(f'Number of instances with na values is {df_daily[df_daily.isnull().any(axis=1)].shape[0]}')\n",
        "\n",
        "# Replace nan values from monotony and strain with 0, because it if nan it means there were no training days 1 week prior the event\n",
        "df_daily.replace(np.nan,0,inplace=True)\n",
        "\n",
        "# Print number of non injury instances and number of injury instances\n",
        "print(len(df_daily[df_daily['injury']==0].values))\n",
        "print(len(df_daily[df_daily['injury']==1].values))"
      ],
      "execution_count": null,
      "outputs": [
        {
          "output_type": "stream",
          "name": "stdout",
          "text": [
            "Original df shape is (42766, 77)\n",
            "Number of instances with na values is 5164\n",
            "42183\n",
            "583\n"
          ]
        }
      ]
    },
    {
      "cell_type": "code",
      "metadata": {
        "colab": {
          "base_uri": "https://localhost:8080/"
        },
        "id": "EYZx9bd9rn1n",
        "outputId": "00188296-f679-4a5d-cf4c-2ae0e1370b2c"
      },
      "source": [
        "df_daily.to_excel('run_injur_with_acuteloads.xlsx',columns=df_daily.columns)\n",
        "print(df_daily)"
      ],
      "execution_count": null,
      "outputs": [
        {
          "output_type": "stream",
          "name": "stdout",
          "text": [
            "       nr. sessions  total km  ...  Monotony    Strain\n",
            "0                 1       5.8  ...  0.550653  0.192099\n",
            "1                 0       0.0  ...  0.529376  0.175753\n",
            "2                 1       0.0  ...  0.529376  0.175753\n",
            "3                 0       0.0  ...  0.529376  0.175753\n",
            "4                 1       0.0  ...  0.744251  0.452930\n",
            "...             ...       ...  ...       ...       ...\n",
            "42178             0       0.0  ...  0.832279  2.389117\n",
            "42179             1       8.0  ...  0.900571  2.713936\n",
            "42180             1      14.7  ...  0.943715  3.588140\n",
            "42181             1      12.2  ...  0.845264  3.000806\n",
            "42182             1       9.3  ...  1.034092  5.335174\n",
            "\n",
            "[42766 rows x 77 columns]\n"
          ]
        }
      ]
    }
  ]
}
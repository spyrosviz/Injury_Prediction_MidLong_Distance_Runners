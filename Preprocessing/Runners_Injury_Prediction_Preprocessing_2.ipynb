{
  "nbformat": 4,
  "nbformat_minor": 0,
  "metadata": {
    "colab": {
      "name": "Runners_Injury_Prediction_Preprocessing_2.ipynb",
      "provenance": [],
      "mount_file_id": "1utYOUGl-j8DZbHbqVA2G4MnKd0wVpGdX",
      "authorship_tag": "ABX9TyM003kRuTJc2Cln3fcsJux2",
      "include_colab_link": true
    },
    "kernelspec": {
      "name": "python3",
      "display_name": "Python 3"
    },
    "language_info": {
      "name": "python"
    }
  },
  "cells": [
    {
      "cell_type": "markdown",
      "metadata": {
        "id": "view-in-github",
        "colab_type": "text"
      },
      "source": [
        "<a href=\"https://colab.research.google.com/github/spyrosviz/Injury_Prediction_MidLong_Distance_Runners/blob/main/Preprocessing/Runners_Injury_Prediction_Preprocessing_2.ipynb\" target=\"_parent\"><img src=\"https://colab.research.google.com/assets/colab-badge.svg\" alt=\"Open In Colab\"/></a>"
      ]
    },
    {
      "cell_type": "markdown",
      "metadata": {
        "id": "NzKJebEt1h0g"
      },
      "source": [
        "#**2.  PREPROCESSING**\n",
        "**CONCATENATE THE DAILY EXCEL CONTAINING THE ADDED LOAD FEATURES WITH THE WEEKLY EXCEL SO THAT THEY CONTAIN THE SAME NUMBER OF DAYS PER ATHLETE IN DATES COLUMN**"
      ]
    },
    {
      "cell_type": "markdown",
      "metadata": {
        "id": "ooNxzZFz2GbP"
      },
      "source": [
        "**2.1 FIND ATHLETE IDs WHO DON'T HAVE THE SAME NUMBER OF DAYS IN DATES COLUMN**"
      ]
    },
    {
      "cell_type": "code",
      "source": [
        "# Import libraries\n",
        "import pandas as pd\n",
        "import numpy as np"
      ],
      "metadata": {
        "id": "cpOrzlg5YsWz"
      },
      "execution_count": null,
      "outputs": []
    },
    {
      "cell_type": "code",
      "metadata": {
        "colab": {
          "base_uri": "https://localhost:8080/"
        },
        "id": "2sZSqUj8_f9i",
        "outputId": "5533962b-dd78-4392-f757-abb0cdc3d8dd"
      },
      "source": [
        "# import daily excel and get number of training days per athlete id\n",
        "df_daily = pd.read_excel(r'/content/drive/MyDrive/Runners_Injury_MLproject/run_injur_with_acuteloads.xlsx',index_col=0)\n",
        "df_counts_daily = df_daily.groupby('Athlete ID').count()\n",
        "no_dates_daily = df_counts_daily['Date'].values\n",
        "\n",
        "# import weekly excel and get number of training days per athlete id\n",
        "df_weekly = pd.read_excel(r'/content/drive/MyDrive/Runners_Injury_MLproject/MidLongDistanceRunnersInjuryWeekly.xlsx',index_col=0)\n",
        "df_counts_weekly = df_weekly.groupby('Athlete ID').count()\n",
        "no_dates_weekly  = df_counts_weekly['Date'].values\n",
        "\n",
        "# find athletes' ids where number of training days in daily excel doesn't match number of training days in weekly excel \n",
        "diff_elem = np.setdiff1d(no_dates_daily,no_dates_weekly)\n",
        "ids = []\n",
        "for no in no_dates_daily:\n",
        "  if no in diff_elem:\n",
        "    ids.append(int(np.where(no_dates_daily == no)[0]))\n",
        "\n",
        "print(ids)\n",
        "\n"
      ],
      "execution_count": null,
      "outputs": [
        {
          "output_type": "stream",
          "name": "stdout",
          "text": [
            "[5, 9, 19, 20, 21, 33, 39, 40, 45, 52, 53, 57, 63, 66, 69]\n"
          ]
        }
      ]
    },
    {
      "cell_type": "markdown",
      "metadata": {
        "id": "pRniRmq32Zba"
      },
      "source": [
        "**2.2 CONCATENATE THE TWO EXCELS INTO ONE DATAFRAME SO THAT THEY CONTAIN THE SAME NUMBER OF DAYS PER ATHLETE IN DATES COLUMN**"
      ]
    },
    {
      "cell_type": "code",
      "metadata": {
        "colab": {
          "base_uri": "https://localhost:8080/"
        },
        "id": "BuwnuZT45BAE",
        "outputId": "f3e797a8-42ae-4068-cdf7-e045d9b74eaf"
      },
      "source": [
        "num_of_athletes = 74\n",
        "ids_daily_drop = []\n",
        "ids_weekly_drop = []\n",
        "\n",
        "for id in range(num_of_athletes):\n",
        "  df_daily_copy = df_daily[df_daily['Athlete ID']==id]\n",
        "  train_days_daily = df_daily_copy['Date'].values\n",
        "  \n",
        "  df_weekly_copy = df_weekly[df_weekly['Athlete ID']==id]\n",
        "  train_days_weekly = df_weekly_copy['Date'].values\n",
        "\n",
        "  for day in train_days_daily:\n",
        "    if day not in train_days_weekly:\n",
        "      idx = int(df_daily[(df_daily['Athlete ID']==id) & (df_daily['Date']==day)].index[0])\n",
        "      ids_daily_drop.append(idx)\n",
        "\n",
        "\n",
        "\n",
        "  for day in train_days_weekly:\n",
        "    if day not in train_days_daily:\n",
        "      idx = df_weekly[(df_weekly['Athlete ID']==id) & (df_weekly['Date']==day)].index[0]\n",
        "      ids_weekly_drop.append(idx)\n",
        "\n",
        "df_daily.drop(ids_daily_drop,axis=0,inplace=True)\n",
        "df_weekly.drop(ids_weekly_drop,axis=0,inplace=True)\n",
        "print(df_daily.shape)\n",
        "print(df_weekly.shape)\n",
        "\n",
        "# Print duplicate columns from two dataframes\n",
        "print(set(df_daily.columns) & set(df_weekly.columns))\n",
        "\n",
        "# Rename different variables with same column name, reset indices and drop duplicate columns\n",
        "df_weekly.rename(columns={'nr. sessions':'nr_sessions_week','nr. sessions.1':'nr_sessions.1_week','nr. sessions.2':'nr_sessions.2_week'},\n",
        "                 inplace=True)\n",
        "df_daily.reset_index(drop=True,inplace=True)\n",
        "df_weekly.reset_index(drop=True,inplace=True) \n",
        "df_weekly.drop(['Athlete ID','injury','Date'],axis=1,inplace=True)\n",
        "\n",
        "# Concatenate dataframes\n",
        "df_concat = pd.concat([df_daily,df_weekly],axis=1)\n",
        "\n",
        "# Replace -0.01 with 0 in some columns. For example in perceived exertion column, when it's not a training day it should have a value of 0.\n",
        "# Instead the cell value has been filled with -0.01 so we replace it with 0\n",
        "df_concat.replace(-0.01,0,inplace=True)\n",
        "columns = df_concat.columns\n",
        "print(df_concat.head)"
      ],
      "execution_count": null,
      "outputs": [
        {
          "output_type": "stream",
          "name": "stdout",
          "text": [
            "(42680, 77)\n",
            "(42680, 72)\n",
            "{'nr. sessions.2', 'injury', 'nr. sessions.1', 'nr. sessions', 'Athlete ID', 'Date'}\n",
            "<bound method NDFrame.head of        nr. sessions  total km  ...  rel total kms week 0_2  rel total kms week 1_2\n",
            "0                 1       5.8  ...                1.378882                1.919255\n",
            "1                 0       0.0  ...                1.018868                1.490566\n",
            "2                 1       0.0  ...                1.018868                1.490566\n",
            "3                 0       0.0  ...                1.018868                1.490566\n",
            "4                 1       0.0  ...                1.361111                0.618056\n",
            "...             ...       ...  ...                     ...                     ...\n",
            "42675             0       0.0  ...                1.101852                0.444444\n",
            "42676             1       8.0  ...                1.288889                1.222222\n",
            "42677             1      14.7  ...                0.743689                0.990291\n",
            "42678             1      12.2  ...                1.238447                0.617375\n",
            "42679             1       9.3  ...                1.022727                1.011364\n",
            "\n",
            "[42680 rows x 146 columns]>\n"
          ]
        }
      ]
    },
    {
      "cell_type": "code",
      "metadata": {
        "id": "KoIj0xNK2AXE"
      },
      "source": [
        "df_concat.to_excel('concat-daily-weekly.xlsx',columns=columns)"
      ],
      "execution_count": null,
      "outputs": []
    }
  ]
}
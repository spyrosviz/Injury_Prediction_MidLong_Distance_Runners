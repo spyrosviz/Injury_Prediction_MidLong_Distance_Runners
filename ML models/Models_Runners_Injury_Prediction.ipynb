{
  "nbformat": 4,
  "nbformat_minor": 0,
  "metadata": {
    "colab": {
      "name": "Models-Runners-Injury-Prediction.ipynb",
      "provenance": [],
      "mount_file_id": "1oqSBGpYGFV2WbRT_7YHj5C_KkhcP75kN",
      "authorship_tag": "ABX9TyO7ktn5OMi2julw73kE1G28",
      "include_colab_link": true
    },
    "kernelspec": {
      "name": "python3",
      "display_name": "Python 3"
    },
    "language_info": {
      "name": "python"
    }
  },
  "cells": [
    {
      "cell_type": "markdown",
      "metadata": {
        "id": "view-in-github",
        "colab_type": "text"
      },
      "source": [
        "<a href=\"https://colab.research.google.com/github/spyrosviz/Injury_Prediction_MidLong_Distance_Runners/blob/main/ML%20models/Models_Runners_Injury_Prediction.ipynb\" target=\"_parent\"><img src=\"https://colab.research.google.com/assets/colab-badge.svg\" alt=\"Open In Colab\"/></a>"
      ]
    },
    {
      "cell_type": "code",
      "metadata": {
        "id": "AgS3m_edcVRI",
        "colab": {
          "base_uri": "https://localhost:8080/"
        },
        "outputId": "613c92bb-46f1-49ab-fbe8-d07dcf5360f0"
      },
      "source": [
        "# Import Libraries\n",
        "\n",
        "import pandas as pd\n",
        "import numpy as np\n",
        "import matplotlib.pyplot as plt\n",
        "import seaborn as sns\n",
        "from sklearn.ensemble import GradientBoostingClassifier, BaggingClassifier\n",
        "from xgboost.sklearn import XGBClassifier\n",
        "from sklearn.calibration import CalibratedClassifierCV\n",
        "from sklearn.model_selection import train_test_split\n",
        "from sklearn.model_selection import GridSearchCV, RandomizedSearchCV, StratifiedKFold\n",
        "from sklearn.metrics import accuracy_score, confusion_matrix, roc_auc_score\n",
        "from sklearn.model_selection import cross_val_score\n",
        "from sklearn.preprocessing import MinMaxScaler\n",
        "import itertools\n",
        "from collections import Counter\n",
        "!pip install imbalanced-learn\n",
        "from imblearn.over_sampling import SMOTE, RandomOverSampler, ADASYN\n",
        "from imblearn.under_sampling import RandomUnderSampler, TomekLinks\n",
        "import tensorflow as tf"
      ],
      "execution_count": 152,
      "outputs": [
        {
          "output_type": "stream",
          "name": "stdout",
          "text": [
            "Requirement already satisfied: imbalanced-learn in /usr/local/lib/python3.7/dist-packages (0.8.1)\n",
            "Requirement already satisfied: numpy>=1.13.3 in /usr/local/lib/python3.7/dist-packages (from imbalanced-learn) (1.19.5)\n",
            "Requirement already satisfied: joblib>=0.11 in /usr/local/lib/python3.7/dist-packages (from imbalanced-learn) (1.1.0)\n",
            "Requirement already satisfied: scipy>=0.19.1 in /usr/local/lib/python3.7/dist-packages (from imbalanced-learn) (1.4.1)\n",
            "Requirement already satisfied: scikit-learn>=0.24 in /usr/local/lib/python3.7/dist-packages (from imbalanced-learn) (1.0.2)\n",
            "Requirement already satisfied: threadpoolctl>=2.0.0 in /usr/local/lib/python3.7/dist-packages (from scikit-learn>=0.24->imbalanced-learn) (3.0.0)\n"
          ]
        }
      ]
    },
    {
      "cell_type": "markdown",
      "source": [
        "**Use the following split if you want to hold out a specified number of athletes for train and test set. The last 10 athletes instances were kept for test set.**"
      ],
      "metadata": {
        "id": "x3j5RtHMSIyn"
      }
    },
    {
      "cell_type": "code",
      "metadata": {
        "colab": {
          "base_uri": "https://localhost:8080/"
        },
        "id": "bklEnL2fTcp_",
        "outputId": "0cbde7a0-2340-4c03-daff-3665988035b4"
      },
      "source": [
        "'''Import data and hold out a specified test set'''\n",
        "\n",
        "# Import data from excel, select the first 63 athletes events for train set and the last 10 athletes for test set\n",
        "df = pd.read_excel(r'/content/drive/MyDrive/Runners_Injury_MLproject/Daily_Injury_Clean.xlsx',index_col = [0])\n",
        "df_train = df[df['Athlete ID'] <= 63]\n",
        "df_train.drop(['Date','Athlete ID'],axis=1,inplace=True)\n",
        "df_test = df[df['Athlete ID'] > 63]\n",
        "df_test.drop(['Date','Athlete ID'],axis=1,inplace=True)\n",
        "\n",
        "# Check if df_train has any equal instances with df_test. We expect to return an empty dataframe if they do not share common instances\n",
        "print(df_train[df_test.eq(df_train).all(axis=1)==True])\n",
        "\n",
        "''' Set y '''\n",
        "y_train = df_train['injury'].values\n",
        "y_test = df_test['injury'].values\n",
        "\n",
        "''' Set all columns for X except injury which is the target'''\n",
        "X_train = df_train.drop(['injury'],axis=1).values\n",
        "X_test = df_test.drop(['injury'],axis=1).values\n",
        "column_names = df_train.drop(['injury'],axis=1).columns\n",
        "\n",
        "#selected_features = ['Total Weekly Distance','Acute Load','Strain','Monotony','injury']\n",
        "\n",
        "''' Set X after dropping selected features '''\n",
        "#X_test = df_test.drop(selected_features,axis=1).values\n",
        "#X_train = df_train.drop(selected_features,axis=1).values\n",
        "#column_names = df_train.drop(selected_features,axis=1).columns\n",
        "\n",
        "''' Set selected features as X '''\n",
        "#X_train = df_train.loc[:,selected_features].values\n",
        "#X_test = df_test.loc[:,selected_features].values\n",
        "#column_names = df_train.loc[:,selected_features].columns\n",
        "\n",
        "# Print dataframes shapes and respective number of healthy and injury events\n",
        "print(column_names)\n",
        "print(Counter(df_train['injury'].values))\n",
        "print(Counter(df_test['injury'].values))"
      ],
      "execution_count": 2,
      "outputs": [
        {
          "output_type": "stream",
          "name": "stdout",
          "text": [
            "Empty DataFrame\n",
            "Columns: [nr. sessions, total km, km Z3-4, km Z5-T1-T2, km sprinting, strength training, hours alternative, perceived exertion, perceived trainingSuccess, perceived recovery, nr. sessions.1, total km.1, km Z3-4.1, km Z5-T1-T2.1, km sprinting.1, strength training.1, hours alternative.1, perceived exertion.1, perceived trainingSuccess.1, perceived recovery.1, nr. sessions.2, total km.2, km Z3-4.2, km Z5-T1-T2.2, km sprinting.2, strength training.2, hours alternative.2, perceived exertion.2, perceived trainingSuccess.2, perceived recovery.2, nr. sessions.3, total km.3, km Z3-4.3, km Z5-T1-T2.3, km sprinting.3, strength training.3, hours alternative.3, perceived exertion.3, perceived trainingSuccess.3, perceived recovery.3, nr. sessions.4, total km.4, km Z3-4.4, km Z5-T1-T2.4, km sprinting.4, strength training.4, hours alternative.4, perceived exertion.4, perceived trainingSuccess.4, perceived recovery.4, nr. sessions.5, total km.5, km Z3-4.5, km Z5-T1-T2.5, km sprinting.5, strength training.5, hours alternative.5, perceived exertion.5, perceived trainingSuccess.5, perceived recovery.5, nr. sessions.6, total km.6, km Z3-4.6, km Z5-T1-T2.6, km sprinting.6, strength training.6, hours alternative.6, perceived exertion.6, perceived trainingSuccess.6, perceived recovery.6, injury]\n",
            "Index: []\n",
            "Index(['nr. sessions', 'total km', 'km Z3-4', 'km Z5-T1-T2', 'km sprinting',\n",
            "       'strength training', 'hours alternative', 'perceived exertion',\n",
            "       'perceived trainingSuccess', 'perceived recovery', 'nr. sessions.1',\n",
            "       'total km.1', 'km Z3-4.1', 'km Z5-T1-T2.1', 'km sprinting.1',\n",
            "       'strength training.1', 'hours alternative.1', 'perceived exertion.1',\n",
            "       'perceived trainingSuccess.1', 'perceived recovery.1', 'nr. sessions.2',\n",
            "       'total km.2', 'km Z3-4.2', 'km Z5-T1-T2.2', 'km sprinting.2',\n",
            "       'strength training.2', 'hours alternative.2', 'perceived exertion.2',\n",
            "       'perceived trainingSuccess.2', 'perceived recovery.2', 'nr. sessions.3',\n",
            "       'total km.3', 'km Z3-4.3', 'km Z5-T1-T2.3', 'km sprinting.3',\n",
            "       'strength training.3', 'hours alternative.3', 'perceived exertion.3',\n",
            "       'perceived trainingSuccess.3', 'perceived recovery.3', 'nr. sessions.4',\n",
            "       'total km.4', 'km Z3-4.4', 'km Z5-T1-T2.4', 'km sprinting.4',\n",
            "       'strength training.4', 'hours alternative.4', 'perceived exertion.4',\n",
            "       'perceived trainingSuccess.4', 'perceived recovery.4', 'nr. sessions.5',\n",
            "       'total km.5', 'km Z3-4.5', 'km Z5-T1-T2.5', 'km sprinting.5',\n",
            "       'strength training.5', 'hours alternative.5', 'perceived exertion.5',\n",
            "       'perceived trainingSuccess.5', 'perceived recovery.5', 'nr. sessions.6',\n",
            "       'total km.6', 'km Z3-4.6', 'km Z5-T1-T2.6', 'km sprinting.6',\n",
            "       'strength training.6', 'hours alternative.6', 'perceived exertion.6',\n",
            "       'perceived trainingSuccess.6', 'perceived recovery.6'],\n",
            "      dtype='object')\n",
            "Counter({0: 39189, 1: 533})\n",
            "Counter({0: 2994, 1: 50})\n"
          ]
        },
        {
          "output_type": "stream",
          "name": "stderr",
          "text": [
            "/usr/local/lib/python3.7/dist-packages/pandas/core/frame.py:4174: SettingWithCopyWarning: \n",
            "A value is trying to be set on a copy of a slice from a DataFrame\n",
            "\n",
            "See the caveats in the documentation: https://pandas.pydata.org/pandas-docs/stable/user_guide/indexing.html#returning-a-view-versus-a-copy\n",
            "  errors=errors,\n",
            "/usr/local/lib/python3.7/dist-packages/pandas/core/frame.py:4174: SettingWithCopyWarning: \n",
            "A value is trying to be set on a copy of a slice from a DataFrame\n",
            "\n",
            "See the caveats in the documentation: https://pandas.pydata.org/pandas-docs/stable/user_guide/indexing.html#returning-a-view-versus-a-copy\n",
            "  errors=errors,\n",
            "/usr/local/lib/python3.7/dist-packages/ipykernel_launcher.py:11: UserWarning: Boolean Series key will be reindexed to match DataFrame index.\n",
            "  # This is added back by InteractiveShellApp.init_path()\n"
          ]
        }
      ]
    },
    {
      "cell_type": "markdown",
      "source": [
        "**Use the following dataset split if you want to hold out 2000 random healthy instancies and 50 random injury instancies**"
      ],
      "metadata": {
        "id": "pyNqjilDRhMA"
      }
    },
    {
      "cell_type": "code",
      "metadata": {
        "colab": {
          "base_uri": "https://localhost:8080/"
        },
        "id": "9ZBGPaIsc3LG",
        "outputId": "c77e0e0b-4d4d-4756-9902-ae61f5dcca5c"
      },
      "source": [
        "'''Import data and holdout a random test set'''\n",
        "\n",
        "# Import data from excel and drop Date and Athlete ID column\n",
        "df = pd.read_excel(r'/content/drive/MyDrive/Runners_Injury_MLproject/run_injur_with_acuteloads.xlsx',index_col = [0])\n",
        "\n",
        "# Hold out a test set with 100 random injury events and 100 random healthy events \n",
        "df_copy = df.copy()\n",
        "df_copy.drop(['Date','Athlete ID'],axis=1,inplace=True)\n",
        "df_inj = df_copy[df_copy['injury']==1].sample(50,random_state=42)\n",
        "df_uninj = df_copy[df_copy['injury']==0].sample(2000,random_state=42)\n",
        "df_test = pd.concat([df_inj,df_uninj],ignore_index=True)\n",
        "\n",
        "# Drop the test set from the original dataframe\n",
        "df_train = pd.concat([df_copy,df_test],ignore_index=True).drop_duplicates(keep=False)\n",
        "\n",
        "# Set X and y\n",
        "y_train = df_train['injury'].values\n",
        "y_test = df_test['injury'].values\n",
        "selected_features = ['Total Weekly Distance','Acute Load','Strain','Monotony','injury']\n",
        "X_test = df_test.drop(selected_features,axis=1).values\n",
        "X_train = df_train.drop(selected_features,axis=1).values\n",
        "#X_train = df_train.loc[:,selected_features].values\n",
        "#X_test = df_test.loc[:,selected_features].values\n",
        "\n",
        "# Check if df_train has any equal instances with df_test. We expect to return an empty dataframe if they do not share common instances\n",
        "# Print dataframe shapes and respective number of healthy and injury events\n",
        "print(df_train[df_test.eq(df_train).all(axis=1)==True])\n",
        "#print(df_train.drop(['Acute Load','Total Weekly Distance','Monotony','Strain','injury'],axis=1).columns)\n",
        "print(df_train.shape)\n",
        "print(Counter(df_train['injury'].values))\n",
        "print(df_test.shape)\n",
        "print(Counter(df_test['injury'].values))"
      ],
      "execution_count": null,
      "outputs": [
        {
          "output_type": "stream",
          "name": "stdout",
          "text": [
            "Empty DataFrame\n",
            "Columns: [nr. sessions, total km, km Z3-4, km Z5-T1-T2, km sprinting, strength training, hours alternative, perceived exertion, perceived trainingSuccess, perceived recovery, nr. sessions.1, total km.1, km Z3-4.1, km Z5-T1-T2.1, km sprinting.1, strength training.1, hours alternative.1, perceived exertion.1, perceived trainingSuccess.1, perceived recovery.1, nr. sessions.2, total km.2, km Z3-4.2, km Z5-T1-T2.2, km sprinting.2, strength training.2, hours alternative.2, perceived exertion.2, perceived trainingSuccess.2, perceived recovery.2, nr. sessions.3, total km.3, km Z3-4.3, km Z5-T1-T2.3, km sprinting.3, strength training.3, hours alternative.3, perceived exertion.3, perceived trainingSuccess.3, perceived recovery.3, nr. sessions.4, total km.4, km Z3-4.4, km Z5-T1-T2.4, km sprinting.4, strength training.4, hours alternative.4, perceived exertion.4, perceived trainingSuccess.4, perceived recovery.4, nr. sessions.5, total km.5, km Z3-4.5, km Z5-T1-T2.5, km sprinting.5, strength training.5, hours alternative.5, perceived exertion.5, perceived trainingSuccess.5, perceived recovery.5, nr. sessions.6, total km.6, km Z3-4.6, km Z5-T1-T2.6, km sprinting.6, strength training.6, hours alternative.6, perceived exertion.6, perceived trainingSuccess.6, perceived recovery.6, injury, Acute Load, Total Weekly Distance, Monotony, Strain]\n",
            "Index: []\n",
            "(40327, 75)\n",
            "Counter({0: 39768, 1: 559})\n",
            "(120, 75)\n",
            "Counter({0: 100, 1: 20})\n"
          ]
        },
        {
          "output_type": "stream",
          "name": "stderr",
          "text": [
            "/usr/local/lib/python3.7/dist-packages/ipykernel_launcher.py:27: UserWarning: Boolean Series key will be reindexed to match DataFrame index.\n"
          ]
        }
      ]
    },
    {
      "cell_type": "code",
      "metadata": {
        "colab": {
          "base_uri": "https://localhost:8080/"
        },
        "id": "DeUrfXj6FKRc",
        "outputId": "d7d3f761-bc89-422b-f60d-2cf5c7787818"
      },
      "source": [
        "class_imbalance = len(df_train[df_train['injury']==1].values)/len(df_train[df_train['injury']==0].values)\n",
        "print(f'Class imbalance is {class_imbalance}')"
      ],
      "execution_count": 3,
      "outputs": [
        {
          "output_type": "stream",
          "name": "stdout",
          "text": [
            "Class imbalance is 0.01360075531399117\n"
          ]
        }
      ]
    },
    {
      "cell_type": "markdown",
      "source": [
        "**Write a function to pretiffy confusion matrix results.\n",
        "The function was found from Daniel Bourke's Tensorflow course**"
      ],
      "metadata": {
        "id": "vBYBD93sSh9b"
      }
    },
    {
      "cell_type": "code",
      "metadata": {
        "id": "czux6JPELNHQ"
      },
      "source": [
        "def plot_confusion_matrix(y_true,y_pred,class_names,figsize=(10,10),text_size=15):\n",
        "\n",
        "    # create the confusion matrix\n",
        "    cm = confusion_matrix(y_true,y_pred)\n",
        "    cm_norm = cm.astype('float') / cm.sum(axis=1)[:,np.newaxis] # normalize confusion matrix\n",
        "    n_classes = cm.shape[0]\n",
        "\n",
        "    fig, ax = plt.subplots(figsize=figsize)\n",
        "    matrix_plot = ax.matshow(cm, cmap=plt.cm.Blues)\n",
        "    fig.colorbar(matrix_plot)\n",
        "\n",
        "    # Set labels to be classes\n",
        "    if class_names:\n",
        "        labels = class_names\n",
        "    else:\n",
        "        labels = np.arange(cm.shape[0])\n",
        "\n",
        "    # Label the axes\n",
        "    ax.set(title='Confusion Matrix',\n",
        "           xlabel = 'Predicted Label',\n",
        "           ylabel = 'True Label',\n",
        "           xticks = np.arange(n_classes),\n",
        "           yticks = np.arange(n_classes),\n",
        "           xticklabels = labels,\n",
        "           yticklabels = labels)\n",
        "\n",
        "    # Set x axis labels to bottom\n",
        "    ax.xaxis.set_label_position('bottom')\n",
        "    ax.xaxis.tick_bottom()\n",
        "\n",
        "    # Adjust label size\n",
        "    ax.yaxis.label.set_size(text_size)\n",
        "    ax.xaxis.label.set_size(text_size)\n",
        "    ax.title.set_size(text_size)\n",
        "\n",
        "    # Set threshold for different colors\n",
        "    threshold = (cm.max() + cm.min()) / 2\n",
        "\n",
        "    # Plot the text on each cell\n",
        "    for i, j in itertools.product(range(cm.shape[0]),range(cm.shape[1])):\n",
        "        plt.text(j,i,f'{cm[i,j]} ({cm_norm[i,j] * 100:.1f}%)',\n",
        "                 horizontalalignment='center',\n",
        "                 color='white' if cm[i,j] > threshold else 'black',\n",
        "                 size = text_size)"
      ],
      "execution_count": 4,
      "outputs": []
    },
    {
      "cell_type": "markdown",
      "metadata": {
        "id": "WfhsU2QGfb8m"
      },
      "source": [
        "Because there is very high class imbalance in the injury variable that we want to predict, we will try the following techniques to overcome this problem and see what works best:\n",
        "* **Weighted XGBoost**\n",
        "* **XGBoost with Smote algorithm for Resampling**\n",
        "* **XGBoost model with Random Resampling**\n",
        "* **Bagging XGBoost model with Random Resampling**\n",
        "* **Neural Networks model with Random Undersampling**"
      ]
    },
    {
      "cell_type": "code",
      "source": [
        "# Set X and y with different resampling methods\n",
        "\n",
        "'''SMOTE algorithm for oversampling 15% ratio and random undersampling 1-1 ratio'''\n",
        "# Oversample the minority class to have number of instances equal with the 15% of the majority class\n",
        "smote = SMOTE(sampling_strategy=0.15,random_state=1)\n",
        "X_sm,y_sm = smote.fit_resample(X_train,y_train)\n",
        "\n",
        "# Downsample the majority class to have number of instances equal with the minority class\n",
        "undersamp = RandomUnderSampler(sampling_strategy=1,random_state=1)\n",
        "X_smus,y_smus = undersamp.fit_resample(X_sm,y_sm)\n",
        "\n",
        "'''Random oversampling 10% ratio and random undersampling 1-1 ratio'''\n",
        "# Random over sampler for minority class to 1:10 class ratio\n",
        "ros = RandomOverSampler(sampling_strategy=0.1,random_state=21)\n",
        "X_ros,y_ros = ros.fit_resample(X_train,y_train)\n",
        "\n",
        "# Undersample the majority class to have number of instances equal with the minority class\n",
        "undersamp = RandomUnderSampler(sampling_strategy=1,random_state=21)\n",
        "X_rosus,y_rosus = undersamp.fit_resample(X_ros,y_ros)\n",
        "\n",
        "'''Random undersampling 1-1 ratio'''\n",
        "# Random under sampler for majority class to 1:1 class ratio\n",
        "rus = RandomUnderSampler(sampling_strategy=1,random_state=21)\n",
        "X_rus,y_rus = rus.fit_resample(X_train,y_train)\n",
        "\n",
        "'''Tomek Links Undersampling'''\n",
        "tmkl = TomekLinks()\n",
        "X_tmk, y_tmk = tmkl.fit_resample(X_train,y_train)\n",
        "\n",
        "'''ADASYN for oversampling 15% ratio and random undersampler 1-1 ratio'''\n",
        "# ADASYN oversample minority class to 15% of the majority class\n",
        "adasyn = ADASYN(sampling_strategy=0.15,random_state=21)\n",
        "X_ada, y_ada = adasyn.fit_resample(X_train,y_train)\n",
        "\n",
        "# Random undersample the majority class to have equal instances with minority class\n",
        "adarus = RandomUnderSampler(sampling_strategy=1,random_state=21)\n",
        "X_adarus,y_adarus = adarus.fit_resample(X_ada,y_ada)"
      ],
      "metadata": {
        "id": "uAg2K8ZETJQ-"
      },
      "execution_count": 5,
      "outputs": []
    },
    {
      "cell_type": "code",
      "source": [
        "# Stratify crossvalidation\n",
        "\n",
        "cv = StratifiedKFold(n_splits=5,shuffle=True,random_state=21)"
      ],
      "metadata": {
        "id": "dLOQjfzpxjsm"
      },
      "execution_count": 6,
      "outputs": []
    },
    {
      "cell_type": "markdown",
      "source": [
        "## 1) Weighted XGBoost Model"
      ],
      "metadata": {
        "id": "ak9W6zSFTmVF"
      }
    },
    {
      "cell_type": "code",
      "metadata": {
        "colab": {
          "base_uri": "https://localhost:8080/"
        },
        "id": "SGSyjOEcELaF",
        "outputId": "4559ace3-4a39-4ab5-965d-eeb87a5c7aea"
      },
      "source": [
        "'''Weighted XGBoost'''\n",
        "\n",
        "# We will use scale_pos_weight argument in xgboost algorithm which increases the error for wrong positive class prediction.\n",
        "# From xgboost documentation it's suggested that the optimal value for scale_pos_weight argument is usually around the\n",
        "# sum(negative instances)/sum(positive instances). We will use randomizedsearchcv to find optimal value\n",
        "\n",
        "xgb_weight = XGBClassifier()\n",
        "param_grid_weight = {\"gamma\":[0.01,0.1,1,10,50,100,1000],'reg_lambda':[1,5,10,20],\n",
        "                     'learning_rate':np.arange(0.01,1,0.01),'eta':np.arange(0.1,1,0.1),'scale_pos_weight':[60,70,80,90,100]}\n",
        "gscv_weight = RandomizedSearchCV(xgb_weight,param_distributions=param_grid_weight,cv=cv,scoring='roc_auc')\n",
        "gscv_weight.fit(X_train,y_train)\n",
        "print(\"Best param is {}\".format(gscv_weight.best_params_))\n",
        "print(\"Best score is {}\".format(gscv_weight.best_score_))\n",
        "\n",
        "optimal_gamma = gscv_weight.best_params_['gamma']\n",
        "optimal_reg_lambda = gscv_weight.best_params_['reg_lambda']\n",
        "optim_lr = gscv_weight.best_params_['learning_rate']\n",
        "optimal_eta = gscv_weight.best_params_['eta']\n",
        "optimal_scale_pos_weight = gscv_weight.best_params_['scale_pos_weight']"
      ],
      "execution_count": 61,
      "outputs": [
        {
          "output_type": "stream",
          "name": "stdout",
          "text": [
            "Best param is {'scale_pos_weight': 90, 'reg_lambda': 20, 'learning_rate': 0.23, 'gamma': 0.01, 'eta': 0.6}\n",
            "Best score is 0.5895046129151751\n"
          ]
        }
      ]
    },
    {
      "cell_type": "code",
      "source": [
        "tuned_xgb_weight = XGBClassifier(gamma=optimal_gamma,learning_rate=optim_lr,eta=optimal_eta,reg_lambda=optimal_reg_lambda,scale_pos_weight=optimal_scale_pos_weight,\n",
        "                                 colsample_bytree=0.5,min_child_weight=90,objective='binary:logistic',subsample=0.5)\n",
        "tuned_xgb_weight.fit(X_train,y_train,early_stopping_rounds=10,eval_metric='auc',eval_set=[(X_test,y_test)])"
      ],
      "metadata": {
        "colab": {
          "base_uri": "https://localhost:8080/"
        },
        "id": "ZlIEIBDoTSi0",
        "outputId": "0acaba9f-6c63-41f6-bd4d-a1d388fb81dc"
      },
      "execution_count": 62,
      "outputs": [
        {
          "output_type": "stream",
          "name": "stdout",
          "text": [
            "[0]\tvalidation_0-auc:0.553711\n",
            "Will train until validation_0-auc hasn't improved in 10 rounds.\n",
            "[1]\tvalidation_0-auc:0.602144\n",
            "[2]\tvalidation_0-auc:0.637224\n",
            "[3]\tvalidation_0-auc:0.634626\n",
            "[4]\tvalidation_0-auc:0.617141\n",
            "[5]\tvalidation_0-auc:0.615595\n",
            "[6]\tvalidation_0-auc:0.611754\n",
            "[7]\tvalidation_0-auc:0.608607\n",
            "[8]\tvalidation_0-auc:0.609275\n",
            "[9]\tvalidation_0-auc:0.621176\n",
            "[10]\tvalidation_0-auc:0.621847\n",
            "[11]\tvalidation_0-auc:0.62831\n",
            "[12]\tvalidation_0-auc:0.640124\n",
            "[13]\tvalidation_0-auc:0.638153\n",
            "[14]\tvalidation_0-auc:0.637291\n",
            "[15]\tvalidation_0-auc:0.629035\n",
            "[16]\tvalidation_0-auc:0.627248\n",
            "[17]\tvalidation_0-auc:0.631844\n",
            "[18]\tvalidation_0-auc:0.633373\n",
            "[19]\tvalidation_0-auc:0.638343\n",
            "[20]\tvalidation_0-auc:0.650511\n",
            "[21]\tvalidation_0-auc:0.652669\n",
            "[22]\tvalidation_0-auc:0.65689\n",
            "[23]\tvalidation_0-auc:0.655568\n",
            "[24]\tvalidation_0-auc:0.660691\n",
            "[25]\tvalidation_0-auc:0.661593\n",
            "[26]\tvalidation_0-auc:0.660438\n",
            "[27]\tvalidation_0-auc:0.66168\n",
            "[28]\tvalidation_0-auc:0.664706\n",
            "[29]\tvalidation_0-auc:0.673297\n",
            "[30]\tvalidation_0-auc:0.669689\n",
            "[31]\tvalidation_0-auc:0.663056\n",
            "[32]\tvalidation_0-auc:0.670825\n",
            "[33]\tvalidation_0-auc:0.680885\n",
            "[34]\tvalidation_0-auc:0.689385\n",
            "[35]\tvalidation_0-auc:0.702438\n",
            "[36]\tvalidation_0-auc:0.699613\n",
            "[37]\tvalidation_0-auc:0.700962\n",
            "[38]\tvalidation_0-auc:0.697241\n",
            "[39]\tvalidation_0-auc:0.689973\n",
            "[40]\tvalidation_0-auc:0.688597\n",
            "[41]\tvalidation_0-auc:0.682993\n",
            "[42]\tvalidation_0-auc:0.684068\n",
            "[43]\tvalidation_0-auc:0.68815\n",
            "[44]\tvalidation_0-auc:0.692639\n",
            "[45]\tvalidation_0-auc:0.68813\n",
            "Stopping. Best iteration:\n",
            "[35]\tvalidation_0-auc:0.702438\n",
            "\n"
          ]
        },
        {
          "output_type": "execute_result",
          "data": {
            "text/plain": [
              "XGBClassifier(colsample_bytree=0.5, eta=0.6, gamma=0.01, learning_rate=0.23,\n",
              "              min_child_weight=90, reg_lambda=20, scale_pos_weight=90,\n",
              "              subsample=0.5)"
            ]
          },
          "metadata": {},
          "execution_count": 62
        }
      ]
    },
    {
      "cell_type": "code",
      "metadata": {
        "colab": {
          "base_uri": "https://localhost:8080/",
          "height": 613
        },
        "id": "no4z-_Hj5N7C",
        "outputId": "d5af4c5a-432f-484c-edb8-f3e389b95170"
      },
      "source": [
        "# Evaluate model's performance on the test set, with AUC, confusion matrix, sensitivity and specificity\n",
        "\n",
        "y_pred = tuned_xgb_weight.predict(X_test)\n",
        "\n",
        "print(f'Area under curve score is {roc_auc_score(y_test,tuned_xgb_weight.predict_proba(X_test)[:,1])}')\n",
        "\n",
        "# Compute true positives, true neagatives, false negatives and false positives\n",
        "tp = confusion_matrix(y_test,y_pred)[1,1]\n",
        "tn = confusion_matrix(y_test,y_pred)[0,0]\n",
        "fn = confusion_matrix(y_test,y_pred)[1,0]\n",
        "fp = confusion_matrix(y_test,y_pred)[0,1]\n",
        "\n",
        "# Compute sensitivity and specificity\n",
        "sensitivity = tp / (tp + fn)\n",
        "specificity = tn / (tn + fp)\n",
        "print(f'Sensitivity is {sensitivity*100}% and specificity is {specificity*100}%')\n",
        "\n",
        "plot_confusion_matrix(y_true=y_test, y_pred=y_pred, class_names=['Healthy events','Injury events'])"
      ],
      "execution_count": 63,
      "outputs": [
        {
          "output_type": "stream",
          "name": "stdout",
          "text": [
            "Area under curve score is 0.702438209752839\n",
            "Sensitivity is 76.0% and specificity is 60.120240480961925%\n"
          ]
        },
        {
          "output_type": "display_data",
          "data": {
            "image/png": "[encoded data removed]",
            "text/plain": [
              "<Figure size 720x720 with 2 Axes>"
            ]
          },
          "metadata": {
            "needs_background": "light"
          }
        }
      ]
    },
    {
      "cell_type": "markdown",
      "source": [
        "##2) XGBoost Model with SMOTE combined with Random Undersampling"
      ],
      "metadata": {
        "id": "5dlsn3C6TxO5"
      }
    },
    {
      "cell_type": "code",
      "metadata": {
        "colab": {
          "base_uri": "https://localhost:8080/"
        },
        "id": "i97xQUQVeTRt",
        "outputId": "1c75a37a-bfb4-467a-bf72-5e721eec1789"
      },
      "source": [
        "'''XGBoost Classifier and SMOTE (Synthetic Minority Oversampling Technique) combined with Random Undersampling'''\n",
        "\n",
        "# Check the number of instances for each class before and after resampling\n",
        "print(Counter(y_train))\n",
        "print(Counter(y_smus))\n",
        "\n",
        "xgb_sm = XGBClassifier()\n",
        "param_grid_sm = {\"gamma\":[0.01,0.1,1,10,50,100,1000],'learning_rate':np.arange(0.01,1,0.01),'eta':np.arange(0.1,1,0.1),'reg_lambda':[1,5,10,20]}\n",
        "gscv_sm = RandomizedSearchCV(xgb_sm,param_distributions=param_grid_sm,cv=5,scoring='roc_auc')\n",
        "gscv_sm.fit(X_smus,y_smus)\n",
        "print(\"Best param is {}\".format(gscv_sm.best_params_))\n",
        "print(\"Best score is {}\".format(gscv_sm.best_score_))\n",
        "\n",
        "optimal_gamma = gscv_sm.best_params_['gamma']\n",
        "optim_lr = gscv_sm.best_params_['learning_rate']\n",
        "optimal_eta = gscv_sm.best_params_['eta']\n",
        "optimal_lambda = gscv_sm.best_params_['reg_lambda']"
      ],
      "execution_count": 32,
      "outputs": [
        {
          "output_type": "stream",
          "name": "stdout",
          "text": [
            "Counter({0: 39189, 1: 533})\n",
            "Counter({0: 5878, 1: 5878})\n",
            "Best param is {'reg_lambda': 20, 'learning_rate': 0.7100000000000001, 'gamma': 1, 'eta': 0.4}\n",
            "Best score is 0.963961113769578\n"
          ]
        }
      ]
    },
    {
      "cell_type": "code",
      "source": [
        "tuned_xgb_sm = XGBClassifier(gamma=optimal_gamma,learning_rate=optim_lr,eta=optimal_eta,reg_lambda=optimal_lambda,subsample=0.4,\n",
        "                             colsample_bytree=0.6,min_child_weight=90,objective='binary:logistic')\n",
        "tuned_xgb_sm.fit(X_smus,y_smus,early_stopping_rounds=10,eval_metric='auc',eval_set=[(X_test,y_test)])"
      ],
      "metadata": {
        "colab": {
          "base_uri": "https://localhost:8080/"
        },
        "id": "eF7sD7YknAwd",
        "outputId": "7fce6919-4615-4c82-d714-e6292b318eb3"
      },
      "execution_count": 58,
      "outputs": [
        {
          "output_type": "stream",
          "name": "stdout",
          "text": [
            "[0]\tvalidation_0-auc:0.611192\n",
            "Will train until validation_0-auc hasn't improved in 10 rounds.\n",
            "[1]\tvalidation_0-auc:0.660758\n",
            "[2]\tvalidation_0-auc:0.661787\n",
            "[3]\tvalidation_0-auc:0.649977\n",
            "[4]\tvalidation_0-auc:0.640434\n",
            "[5]\tvalidation_0-auc:0.656112\n",
            "[6]\tvalidation_0-auc:0.649071\n",
            "[7]\tvalidation_0-auc:0.651012\n",
            "[8]\tvalidation_0-auc:0.653036\n",
            "[9]\tvalidation_0-auc:0.648056\n",
            "[10]\tvalidation_0-auc:0.662241\n",
            "[11]\tvalidation_0-auc:0.650558\n",
            "[12]\tvalidation_0-auc:0.652749\n",
            "[13]\tvalidation_0-auc:0.641199\n",
            "[14]\tvalidation_0-auc:0.614653\n",
            "[15]\tvalidation_0-auc:0.625721\n",
            "[16]\tvalidation_0-auc:0.637836\n",
            "[17]\tvalidation_0-auc:0.640922\n",
            "[18]\tvalidation_0-auc:0.642184\n",
            "[19]\tvalidation_0-auc:0.638063\n",
            "[20]\tvalidation_0-auc:0.630595\n",
            "Stopping. Best iteration:\n",
            "[10]\tvalidation_0-auc:0.662241\n",
            "\n"
          ]
        },
        {
          "output_type": "execute_result",
          "data": {
            "text/plain": [
              "XGBClassifier(colsample_bytree=0.6, eta=0.4, gamma=1,\n",
              "              learning_rate=0.7100000000000001, min_child_weight=90,\n",
              "              reg_lambda=20, subsample=0.4)"
            ]
          },
          "metadata": {},
          "execution_count": 58
        }
      ]
    },
    {
      "cell_type": "code",
      "metadata": {
        "colab": {
          "base_uri": "https://localhost:8080/",
          "height": 609
        },
        "id": "A1BII4cSmZKS",
        "outputId": "8e3af655-e9d2-4a1e-d09e-48ef349196b5"
      },
      "source": [
        "# Evaluate model's performance on the test set, with AUC, confusion matrix, sensitivity and specificity\n",
        "\n",
        "y_pred = tuned_xgb_sm.predict(X_test)\n",
        "\n",
        "print(f'Area under curve score is {roc_auc_score(y_test,tuned_xgb_sm.predict_proba(X_test)[:,1])}')\n",
        "\n",
        "# Compute true positives, true neagatives, false negatives and false positives\n",
        "tp = confusion_matrix(y_test,y_pred)[1,1]\n",
        "tn = confusion_matrix(y_test,y_pred)[0,0]\n",
        "fn = confusion_matrix(y_test,y_pred)[1,0]\n",
        "fp = confusion_matrix(y_test,y_pred)[0,1]\n",
        "\n",
        "# Compute sensitivity and specificity\n",
        "sensitivity = tp / (tp + fn)\n",
        "specificity = tn / (tn + fp)\n",
        "print(f'Sensitivity is {sensitivity*100}% and specificity is {specificity*100}%')\n",
        "\n",
        "plot_confusion_matrix(y_true=y_test, y_pred=y_pred, class_names=['Healthy events','Injury events'])"
      ],
      "execution_count": 60,
      "outputs": [
        {
          "output_type": "stream",
          "name": "stdout",
          "text": [
            "Area under curve score is 0.6622411489645958\n",
            "Sensitivity is 34.0% and specificity is 81.83032732130928%\n"
          ]
        },
        {
          "output_type": "display_data",
          "data": {
            "image/png": "[encoded data removed]",
            "text/plain": [
              "<Figure size 720x720 with 2 Axes>"
            ]
          },
          "metadata": {
            "needs_background": "light"
          }
        }
      ]
    },
    {
      "cell_type": "markdown",
      "source": [
        "## 3) XGBoost Model with Random Resampling"
      ],
      "metadata": {
        "id": "6yESmQJXT_1f"
      }
    },
    {
      "cell_type": "code",
      "metadata": {
        "colab": {
          "base_uri": "https://localhost:8080/"
        },
        "id": "ZEi3cmw8ximg",
        "outputId": "aaf454ae-36f8-430c-8bc9-ee81dd99685a"
      },
      "source": [
        "'''XGBoost Classifier and Random Undersampling'''\n",
        "\n",
        "# Check the number of instances for each class before and after resampling\n",
        "print(Counter(y_train))\n",
        "print(Counter(y_rosus))\n",
        "\n",
        "xgb_rus = XGBClassifier()\n",
        "param_grid_rus = {\"gamma\":[0.01,0.1,1,10,50,100,1000],'reg_lambda':[1,5,10,20],'learning_rate':np.arange(0.01,1,0.01),'eta':np.arange(0.1,1,0.1)}\n",
        "gscv_rus = RandomizedSearchCV(xgb_rus,param_distributions=param_grid_rus,cv=5,scoring='roc_auc')\n",
        "gscv_rus.fit(X_rosus,y_rosus)\n",
        "print(\"Best param is {}\".format(gscv_rus.best_params_))\n",
        "print(\"Best score is {}\".format(gscv_rus.best_score_))\n",
        "\n",
        "optimal_gamma = gscv_rus.best_params_['gamma']\n",
        "optimal_reg_lambda = gscv_rus.best_params_['reg_lambda']\n",
        "optim_lr = gscv_rus.best_params_['learning_rate']\n",
        "optimal_eta = gscv_rus.best_params_['eta']"
      ],
      "execution_count": 64,
      "outputs": [
        {
          "output_type": "stream",
          "name": "stdout",
          "text": [
            "Counter({0: 39189, 1: 533})\n",
            "Counter({0: 3918, 1: 3918})\n",
            "Best param is {'reg_lambda': 5, 'learning_rate': 0.6900000000000001, 'gamma': 1, 'eta': 0.2}\n",
            "Best score is 0.9601002712690754\n"
          ]
        }
      ]
    },
    {
      "cell_type": "code",
      "source": [
        "tuned_xgb_rus = XGBClassifier(gamma=optimal_gamma,reg_lambda=optimal_reg_lambda,learning_rate=optim_lr,eta=optimal_eta,\n",
        "                              colsample_bytree=0.7,min_child_weight=9,objective='binary:logistic',subsample=0.8)\n",
        "tuned_xgb_rus.fit(X_rosus,y_rosus,early_stopping_rounds=10,eval_metric='auc',eval_set=[(X_test,y_test)])"
      ],
      "metadata": {
        "colab": {
          "base_uri": "https://localhost:8080/"
        },
        "id": "5AnRK7ntUuDh",
        "outputId": "1c9a1bce-0e07-4ef0-d625-5cb1fb09acc8"
      },
      "execution_count": 89,
      "outputs": [
        {
          "output_type": "stream",
          "name": "stdout",
          "text": [
            "[0]\tvalidation_0-auc:0.579669\n",
            "Will train until validation_0-auc hasn't improved in 10 rounds.\n",
            "[1]\tvalidation_0-auc:0.588874\n",
            "[2]\tvalidation_0-auc:0.546109\n",
            "[3]\tvalidation_0-auc:0.555107\n",
            "[4]\tvalidation_0-auc:0.570431\n",
            "[5]\tvalidation_0-auc:0.585691\n",
            "[6]\tvalidation_0-auc:0.631974\n",
            "[7]\tvalidation_0-auc:0.642722\n",
            "[8]\tvalidation_0-auc:0.659005\n",
            "[9]\tvalidation_0-auc:0.658353\n",
            "[10]\tvalidation_0-auc:0.657468\n",
            "[11]\tvalidation_0-auc:0.664315\n",
            "[12]\tvalidation_0-auc:0.631533\n",
            "[13]\tvalidation_0-auc:0.623631\n",
            "[14]\tvalidation_0-auc:0.601069\n",
            "[15]\tvalidation_0-auc:0.592779\n",
            "[16]\tvalidation_0-auc:0.589365\n",
            "[17]\tvalidation_0-auc:0.59849\n",
            "[18]\tvalidation_0-auc:0.598851\n",
            "[19]\tvalidation_0-auc:0.590935\n",
            "[20]\tvalidation_0-auc:0.583714\n",
            "[21]\tvalidation_0-auc:0.577822\n",
            "Stopping. Best iteration:\n",
            "[11]\tvalidation_0-auc:0.664315\n",
            "\n"
          ]
        },
        {
          "output_type": "execute_result",
          "data": {
            "text/plain": [
              "XGBClassifier(colsample_bytree=0.7, eta=0.2, gamma=1,\n",
              "              learning_rate=0.6900000000000001, min_child_weight=9,\n",
              "              reg_lambda=5, subsample=0.8)"
            ]
          },
          "metadata": {},
          "execution_count": 89
        }
      ]
    },
    {
      "cell_type": "code",
      "metadata": {
        "colab": {
          "base_uri": "https://localhost:8080/",
          "height": 610
        },
        "id": "Dt0p0ST912qs",
        "outputId": "1177233c-9ce9-4b0b-86e8-7a8906e24e46"
      },
      "source": [
        "# Evaluate model's performance on the test set, with AUC, confusion matrix, sensitivity and specificity\n",
        "\n",
        "y_pred = tuned_xgb_rus.predict(X_test)\n",
        "\n",
        "print(f'Area under curve score is {roc_auc_score(y_test,tuned_xgb_rus.predict_proba(X_test)[:,1])}')\n",
        "\n",
        "# Compute true positives, true neagatives, false negatives and false positives\n",
        "tp = confusion_matrix(y_test,y_pred)[1,1]\n",
        "tn = confusion_matrix(y_test,y_pred)[0,0]\n",
        "fn = confusion_matrix(y_test,y_pred)[1,0]\n",
        "fp = confusion_matrix(y_test,y_pred)[0,1]\n",
        "\n",
        "# Compute sensitivity and specificity\n",
        "sensitivity = tp / (tp + fn)\n",
        "specificity = tn / (tn + fp)\n",
        "print(f'Sensitivity is {sensitivity*100}% and specificity is {specificity*100}%')\n",
        "\n",
        "plot_confusion_matrix(y_true=y_test, y_pred=y_pred, class_names=['Healthy events','Injury events'])"
      ],
      "execution_count": 90,
      "outputs": [
        {
          "output_type": "stream",
          "name": "stdout",
          "text": [
            "Area under curve score is 0.664315297261189\n",
            "Sensitivity is 60.0% and specificity is 60.52104208416834%\n"
          ]
        },
        {
          "output_type": "display_data",
          "data": {
            "image/png": "[encoded data removed]",
            "text/plain": [
              "<Figure size 720x720 with 2 Axes>"
            ]
          },
          "metadata": {
            "needs_background": "light"
          }
        }
      ]
    },
    {
      "cell_type": "markdown",
      "source": [
        "## 4) Bagging Model with XGBoost base estimators and Random Resampling"
      ],
      "metadata": {
        "id": "kqx_PlAYUKaO"
      }
    },
    {
      "cell_type": "code",
      "metadata": {
        "colab": {
          "base_uri": "https://localhost:8080/"
        },
        "id": "hF_c72yCLSQu",
        "outputId": "7d8bff9e-623a-4366-838e-bc26dc2c3c74"
      },
      "source": [
        "'''Bagging Classifier with XGBoost base estimators and Random Undersampling with combined Oversampling'''\n",
        "\n",
        "# Check the number of instances for each class before and after resampling\n",
        "print(Counter(y_train))\n",
        "print(Counter(y_rosus))\n",
        "\n",
        "base_est = XGBClassifier(gamma=optimal_gamma,reg_lambda=optimal_reg_lambda,learning_rate=optim_lr,eta=optimal_eta,\n",
        "                              colsample_bytree=0.6,min_child_weight=90,objective='binary:logistic',subsample=0.8,n_estimators=11)\n",
        "\n",
        "# XGBoost base classifier\n",
        "#base_est = XGBClassifier(n_estimators=512,learning_rate=0.01,max_depth=3)\n",
        "\n",
        "# Bagging XGBoost Classifier\n",
        "bagg = BaggingClassifier(base_estimator=base_est,n_estimators=9,max_samples=2048,random_state=21)\n",
        "\n",
        "# Platt's Scaling to get probabilities outputs\n",
        "calib_clf = CalibratedClassifierCV(bagg,cv=5)"
      ],
      "execution_count": 141,
      "outputs": [
        {
          "output_type": "stream",
          "name": "stdout",
          "text": [
            "Counter({0: 39189, 1: 533})\n",
            "Counter({0: 3918, 1: 3918})\n"
          ]
        }
      ]
    },
    {
      "cell_type": "code",
      "metadata": {
        "colab": {
          "base_uri": "https://localhost:8080/",
          "height": 609
        },
        "id": "DonzddNUO61E",
        "outputId": "d755e5cd-041e-4fc2-ad22-64acec7db6a3"
      },
      "source": [
        "# Evaluate model's performance on the test set, with AUC, confusion matrix, sensitivity and specificity\n",
        "# You can switch threshold prob in order to bias sensitivity at the cost of specificity. It is set to default 0.5\n",
        "calib_clf.fit(X_rosus,y_rosus)\n",
        "y_pred_calib = calib_clf.predict_proba(X_test)\n",
        "threshold_prob = 0.5\n",
        "y_pred = []\n",
        "for y_hat in y_pred_calib:\n",
        "  if y_hat[1] > threshold_prob:\n",
        "    y_pred.append(1)\n",
        "  else:\n",
        "    y_pred.append(0)\n",
        "\n",
        "print(f'Area under curve score is {roc_auc_score(y_test,calib_clf.predict_proba(X_test)[:,1])}')\n",
        "\n",
        "# Compute true positives, true neagatives, false negatives and false positives\n",
        "tp = confusion_matrix(y_test,np.array(y_pred))[1,1]\n",
        "tn = confusion_matrix(y_test,np.array(y_pred))[0,0]\n",
        "fn = confusion_matrix(y_test,np.array(y_pred))[1,0]\n",
        "fp = confusion_matrix(y_test,np.array(y_pred))[0,1]\n",
        "\n",
        "# Compute sensitivity and specificity\n",
        "sensitivity = tp / (tp + fn)\n",
        "specificity = tn / (tn + fp)\n",
        "print(f'Sensitivity is {sensitivity*100}% and specificity is {specificity*100}%')\n",
        "\n",
        "# Plot confusion matrix\n",
        "plot_confusion_matrix(y_true=y_test, y_pred=np.array(y_pred), class_names=['Healthy events','Injury events'])"
      ],
      "execution_count": 142,
      "outputs": [
        {
          "output_type": "stream",
          "name": "stdout",
          "text": [
            "Area under curve score is 0.6407682030728122\n",
            "Sensitivity is 68.0% and specificity is 46.0253841015364%\n"
          ]
        },
        {
          "output_type": "display_data",
          "data": {
            "image/png": "[encoded data removed]",
            "text/plain": [
              "<Figure size 720x720 with 2 Axes>"
            ]
          },
          "metadata": {
            "needs_background": "light"
          }
        }
      ]
    },
    {
      "cell_type": "markdown",
      "source": [
        "## 5) Neural Networks Model"
      ],
      "metadata": {
        "id": "UBll5wmQUbx3"
      }
    },
    {
      "cell_type": "code",
      "source": [
        "'''Neural Networks Model'''\n",
        "\n",
        "# Check the number of instances for each class before and after resampling\n",
        "print(Counter(y_train))\n",
        "print(Counter(y_rus))\n",
        "\n",
        "# Scale X data\n",
        "X_scaled_rus = MinMaxScaler().fit_transform(X_rus)\n",
        "X_scaled_test = MinMaxScaler().fit_transform(X_test)\n",
        "\n",
        "# set random seed for reproducibility\n",
        "\n",
        "tf.random.set_seed(24)\n",
        "\n",
        "# create model with 9 hidden layers with 50 neurons each and 1 output layer\n",
        "\n",
        "nn_model = tf.keras.Sequential([tf.keras.layers.Dense(128,activation=\"relu\"),\n",
        "                                tf.keras.layers.Dropout(0.1),\n",
        "                                tf.keras.layers.Dense(128,activation=\"relu\"),\n",
        "                                #tf.keras.layers.Dropout(0.1),\n",
        "                                tf.keras.layers.Dense(128,activation=\"relu\"),\n",
        "                                #tf.keras.layers.Dropout(0.1),\n",
        "                                tf.keras.layers.Dense(128,activation=\"relu\"),\n",
        "                                #tf.keras.layers.Dropout(0.1),\n",
        "                                tf.keras.layers.Dense(64,activation=\"relu\"),\n",
        "                                #tf.keras.layers.Dropout(0.1),\n",
        "                                tf.keras.layers.Dense(64,activation=\"relu\"),\n",
        "                                #tf.keras.layers.Dropout(0.1),\n",
        "                                tf.keras.layers.Dense(64,activation=\"relu\"),\n",
        "                                #tf.keras.layers.Dropout(0.1),\n",
        "                                tf.keras.layers.Dense(32,activation=\"relu\"),\n",
        "                                #tf.keras.layers.Dropout(0.1),\n",
        "                                tf.keras.layers.Dense(32,activation=\"relu\"),\n",
        "                                #tf.keras.layers.Dropout(0.1),\n",
        "                                tf.keras.layers.Dense(1,activation=\"sigmoid\")\n",
        "])\n",
        "\n",
        "# compile model\n",
        "\n",
        "nn_model.compile(loss=\"binary_crossentropy\",\n",
        "                 optimizer=tf.keras.optimizers.Adam(learning_rate=0.002),\n",
        "                 metrics=['AUC'])\n",
        "\n",
        "# set callback to stop after 10 epochs if model doesn't improve and fit training data\n",
        "\n",
        "callback = tf.keras.callbacks.EarlyStopping(monitor='loss',patience=3)\n",
        "history = nn_model.fit(X_scaled_rus,y_rus,epochs=10,batch_size=32,callbacks=[callback])\n",
        "\n",
        "# Evaluate model performance on test set, with AUC, confusion matrix, sensitivity and specificity\n",
        "\n",
        "y_prob_pred = nn_model.predict(X_scaled_test)\n",
        "y_pred = []\n",
        "for i in y_prob_pred:\n",
        "  if i <=0.5:\n",
        "    y_pred.append(0)\n",
        "  else:\n",
        "    y_pred.append(1)\n",
        "\n",
        "y_pred = np.array(y_pred)\n",
        "print(y_pred[y_pred>1])\n",
        "\n",
        "# Compute true positives, true neagatives, false negatives and false positives\n",
        "tp = confusion_matrix(y_test,np.array(y_pred))[1,1]\n",
        "tn = confusion_matrix(y_test,np.array(y_pred))[0,0]\n",
        "fn = confusion_matrix(y_test,np.array(y_pred))[1,0]\n",
        "fp = confusion_matrix(y_test,np.array(y_pred))[0,1]\n",
        "\n",
        "# Compute sensitivity and specificity\n",
        "sensitivity = tp / (tp + fn)\n",
        "specificity = tn / (tn + fp)\n",
        "print(f'Sensitivity is {sensitivity*100}% and specificity is {specificity*100}%')\n",
        "\n",
        "# Plot confusion matrix\n",
        "plot_confusion_matrix(y_true=y_test, y_pred=np.array(y_pred), class_names=['Healthy events','Injury events'])\n",
        "\n",
        "# evaluate the model\n",
        "\n",
        "print(f'Area Under Curve is {nn_model.evaluate(X_scaled_test,y_test)[1]}')"
      ],
      "metadata": {
        "colab": {
          "base_uri": "https://localhost:8080/",
          "height": 1000
        },
        "id": "uRXc8cfIrxro",
        "outputId": "b6b11733-1f87-431a-e62e-8a53cc92addf"
      },
      "execution_count": 148,
      "outputs": [
        {
          "output_type": "stream",
          "name": "stdout",
          "text": [
            "Counter({0: 39189, 1: 533})\n",
            "Counter({0: 533, 1: 533})\n",
            "Epoch 1/10\n",
            "34/34 [==============================] - 2s 5ms/step - loss: 0.6888 - auc: 0.5756\n",
            "Epoch 2/10\n",
            "34/34 [==============================] - 0s 4ms/step - loss: 0.6676 - auc: 0.6319\n",
            "Epoch 3/10\n",
            "34/34 [==============================] - 0s 4ms/step - loss: 0.6598 - auc: 0.6603\n",
            "Epoch 4/10\n",
            "34/34 [==============================] - 0s 5ms/step - loss: 0.6473 - auc: 0.6753\n",
            "Epoch 5/10\n",
            "34/34 [==============================] - 0s 4ms/step - loss: 0.6260 - auc: 0.7046\n",
            "Epoch 6/10\n",
            "34/34 [==============================] - 0s 4ms/step - loss: 0.6171 - auc: 0.7151\n",
            "Epoch 7/10\n",
            "34/34 [==============================] - 0s 5ms/step - loss: 0.5850 - auc: 0.7570\n",
            "Epoch 8/10\n",
            "34/34 [==============================] - 0s 4ms/step - loss: 0.5874 - auc: 0.7611\n",
            "Epoch 9/10\n",
            "34/34 [==============================] - 0s 5ms/step - loss: 0.5561 - auc: 0.7883\n",
            "Epoch 10/10\n",
            "34/34 [==============================] - 0s 4ms/step - loss: 0.5402 - auc: 0.8036\n",
            "[]\n",
            "Sensitivity is 76.0% and specificity is 43.7875751503006%\n",
            "96/96 [==============================] - 1s 2ms/step - loss: 0.9479 - auc: 0.5771\n",
            "Area Under Curve is 0.5771442651748657\n"
          ]
        },
        {
          "output_type": "display_data",
          "data": {
            "image/png": "[encoded data removed]",
            "text/plain": [
              "<Figure size 720x720 with 2 Axes>"
            ]
          },
          "metadata": {
            "needs_background": "light"
          }
        }
      ]
    },
    {
      "cell_type": "code",
      "source": [
        "'''Find optimal Learning Rate for nn_model'''\n",
        "\n",
        "# set random seed for reproducibility\n",
        "\n",
        "tf.random.set_seed(24)\n",
        "\n",
        "# create model with 2 hidden layers and 1 output layer\n",
        "\n",
        "nn_model = tf.keras.Sequential([tf.keras.layers.Dense(128,activation=\"relu\"),\n",
        "                                tf.keras.layers.Dropout(0.1),\n",
        "                                tf.keras.layers.Dense(128,activation=\"relu\"),\n",
        "                                #tf.keras.layers.Dropout(0.1),\n",
        "                                tf.keras.layers.Dense(128,activation=\"relu\"),\n",
        "                                #tf.keras.layers.Dropout(0.1),\n",
        "                                tf.keras.layers.Dense(128,activation=\"relu\"),\n",
        "                                #tf.keras.layers.Dropout(0.1),\n",
        "                                tf.keras.layers.Dense(64,activation=\"relu\"),\n",
        "                                #tf.keras.layers.Dropout(0.1),\n",
        "                                tf.keras.layers.Dense(64,activation=\"relu\"),\n",
        "                                #tf.keras.layers.Dropout(0.1),\n",
        "                                tf.keras.layers.Dense(64,activation=\"relu\"),\n",
        "                                #tf.keras.layers.Dropout(0.1),\n",
        "                                tf.keras.layers.Dense(32,activation=\"relu\"),\n",
        "                                #tf.keras.layers.Dropout(0.1),\n",
        "                                tf.keras.layers.Dense(32,activation=\"relu\"),\n",
        "                                #tf.keras.layers.Dropout(0.1),\n",
        "                                tf.keras.layers.Dense(1,activation=\"sigmoid\")\n",
        "])\n",
        "\n",
        "# compile model\n",
        "\n",
        "nn_model.compile(loss=\"binary_crossentropy\",\n",
        "                 optimizer=tf.keras.optimizers.Adam(),\n",
        "                 metrics=[\"AUC\"])\n",
        "\n",
        "# set callback to stop after 5 epochs if model doesn't improve and fit training data\n",
        "\n",
        "lr_scheduler = tf.keras.callbacks.LearningRateScheduler(lambda epoch: 1e-4 * 10 ** (epoch/20))\n",
        "history = nn_model.fit(X_scaled_rus,y_rus,epochs=30,callbacks=[lr_scheduler])\n",
        "\n",
        "# plot accuracy vs learning rate to find optimal learning rate\n",
        "\n",
        "plt.figure(figsize=[10,10])\n",
        "plt.semilogx(1e-4 * (10 ** (tf.range(30)/20)),history.history[\"loss\"])\n",
        "plt.ylabel(\"Loss\")\n",
        "plt.title(\"Learning Rate vs Loss\")\n",
        "plt.show()"
      ],
      "metadata": {
        "colab": {
          "base_uri": "https://localhost:8080/",
          "height": 1000
        },
        "id": "heCKoTlBtWjb",
        "outputId": "b8034291-8e9c-4321-ddeb-9dfbb6176acc"
      },
      "execution_count": 149,
      "outputs": [
        {
          "output_type": "stream",
          "name": "stdout",
          "text": [
            "Epoch 1/30\n",
            "34/34 [==============================] - 1s 4ms/step - loss: 0.6922 - auc: 0.5587 - lr: 1.0000e-04\n",
            "Epoch 2/30\n",
            "34/34 [==============================] - 0s 4ms/step - loss: 0.6902 - auc: 0.6004 - lr: 1.1220e-04\n",
            "Epoch 3/30\n",
            "34/34 [==============================] - 0s 4ms/step - loss: 0.6873 - auc: 0.6195 - lr: 1.2589e-04\n",
            "Epoch 4/30\n",
            "34/34 [==============================] - 0s 5ms/step - loss: 0.6832 - auc: 0.6329 - lr: 1.4125e-04\n",
            "Epoch 5/30\n",
            "34/34 [==============================] - 0s 5ms/step - loss: 0.6775 - auc: 0.6332 - lr: 1.5849e-04\n",
            "Epoch 6/30\n",
            "34/34 [==============================] - 0s 5ms/step - loss: 0.6719 - auc: 0.6248 - lr: 1.7783e-04\n",
            "Epoch 7/30\n",
            "34/34 [==============================] - 0s 5ms/step - loss: 0.6571 - auc: 0.6605 - lr: 1.9953e-04\n",
            "Epoch 8/30\n",
            "34/34 [==============================] - 0s 4ms/step - loss: 0.6502 - auc: 0.6650 - lr: 2.2387e-04\n",
            "Epoch 9/30\n",
            "34/34 [==============================] - 0s 5ms/step - loss: 0.6382 - auc: 0.6910 - lr: 2.5119e-04\n",
            "Epoch 10/30\n",
            "34/34 [==============================] - 0s 4ms/step - loss: 0.6376 - auc: 0.6889 - lr: 2.8184e-04\n",
            "Epoch 11/30\n",
            "34/34 [==============================] - 0s 4ms/step - loss: 0.6175 - auc: 0.7164 - lr: 3.1623e-04\n",
            "Epoch 12/30\n",
            "34/34 [==============================] - 0s 4ms/step - loss: 0.6024 - auc: 0.7362 - lr: 3.5481e-04\n",
            "Epoch 13/30\n",
            "34/34 [==============================] - 0s 4ms/step - loss: 0.5992 - auc: 0.7376 - lr: 3.9811e-04\n",
            "Epoch 14/30\n",
            "34/34 [==============================] - 0s 5ms/step - loss: 0.5812 - auc: 0.7607 - lr: 4.4668e-04\n",
            "Epoch 15/30\n",
            "34/34 [==============================] - 0s 4ms/step - loss: 0.5653 - auc: 0.7757 - lr: 5.0119e-04\n",
            "Epoch 16/30\n",
            "34/34 [==============================] - 0s 4ms/step - loss: 0.5378 - auc: 0.8049 - lr: 5.6234e-04\n",
            "Epoch 17/30\n",
            "34/34 [==============================] - 0s 4ms/step - loss: 0.5564 - auc: 0.7892 - lr: 6.3096e-04\n",
            "Epoch 18/30\n",
            "34/34 [==============================] - 0s 4ms/step - loss: 0.5017 - auc: 0.8349 - lr: 7.0795e-04\n",
            "Epoch 19/30\n",
            "34/34 [==============================] - 0s 5ms/step - loss: 0.5116 - auc: 0.8278 - lr: 7.9433e-04\n",
            "Epoch 20/30\n",
            "34/34 [==============================] - 0s 4ms/step - loss: 0.5240 - auc: 0.8161 - lr: 8.9125e-04\n",
            "Epoch 21/30\n",
            "34/34 [==============================] - 0s 4ms/step - loss: 0.4433 - auc: 0.8761 - lr: 0.0010\n",
            "Epoch 22/30\n",
            "34/34 [==============================] - 0s 4ms/step - loss: 0.4512 - auc: 0.8694 - lr: 0.0011\n",
            "Epoch 23/30\n",
            "34/34 [==============================] - 0s 4ms/step - loss: 0.4082 - auc: 0.8970 - lr: 0.0013\n",
            "Epoch 24/30\n",
            "34/34 [==============================] - 0s 4ms/step - loss: 0.4413 - auc: 0.8749 - lr: 0.0014\n",
            "Epoch 25/30\n",
            "34/34 [==============================] - 0s 4ms/step - loss: 0.4136 - auc: 0.8933 - lr: 0.0016\n",
            "Epoch 26/30\n",
            "34/34 [==============================] - 0s 4ms/step - loss: 0.4046 - auc: 0.8969 - lr: 0.0018\n",
            "Epoch 27/30\n",
            "34/34 [==============================] - 0s 5ms/step - loss: 0.3550 - auc: 0.9217 - lr: 0.0020\n",
            "Epoch 28/30\n",
            "34/34 [==============================] - 0s 4ms/step - loss: 0.3721 - auc: 0.9141 - lr: 0.0022\n",
            "Epoch 29/30\n",
            "34/34 [==============================] - 0s 4ms/step - loss: 0.3717 - auc: 0.9139 - lr: 0.0025\n",
            "Epoch 30/30\n",
            "34/34 [==============================] - 0s 4ms/step - loss: 0.4066 - auc: 0.8946 - lr: 0.0028\n"
          ]
        },
        {
          "output_type": "display_data",
          "data": {
            "image/png": "[encoded data removed]",
            "text/plain": [
              "<Figure size 720x720 with 1 Axes>"
            ]
          },
          "metadata": {
            "needs_background": "light"
          }
        }
      ]
    },
    {
      "cell_type": "code",
      "source": [
        "'''Crossvalidation on nn_model'''\n",
        "\n",
        "from keras.wrappers.scikit_learn import KerasClassifier\n",
        "\n",
        "tf.random.set_seed(24)\n",
        "\n",
        "def create_nn_model():\n",
        "\n",
        "  # create model with 2 hidden layers and 1 output layer\n",
        "\n",
        "  nn_model = tf.keras.Sequential([tf.keras.layers.Dense(128,activation=\"relu\"),\n",
        "                                tf.keras.layers.Dropout(0.1),\n",
        "                                tf.keras.layers.Dense(128,activation=\"relu\"),\n",
        "                                #tf.keras.layers.Dropout(0.1),\n",
        "                                tf.keras.layers.Dense(128,activation=\"relu\"),\n",
        "                                #tf.keras.layers.Dropout(0.1),\n",
        "                                tf.keras.layers.Dense(128,activation=\"relu\"),\n",
        "                                #tf.keras.layers.Dropout(0.1),\n",
        "                                tf.keras.layers.Dense(64,activation=\"relu\"),\n",
        "                                #tf.keras.layers.Dropout(0.1),\n",
        "                                tf.keras.layers.Dense(64,activation=\"relu\"),\n",
        "                                #tf.keras.layers.Dropout(0.1),\n",
        "                                tf.keras.layers.Dense(64,activation=\"relu\"),\n",
        "                                #tf.keras.layers.Dropout(0.1),\n",
        "                                tf.keras.layers.Dense(32,activation=\"relu\"),\n",
        "                                #tf.keras.layers.Dropout(0.1),\n",
        "                                tf.keras.layers.Dense(32,activation=\"relu\"),\n",
        "                                #tf.keras.layers.Dropout(0.1),\n",
        "                                tf.keras.layers.Dense(1,activation=\"sigmoid\")\n",
        "  ])\n",
        "\n",
        "  # compile model\n",
        "\n",
        "  nn_model.compile(loss=\"binary_crossentropy\",\n",
        "                  optimizer=tf.keras.optimizers.Adam(learning_rate=0.002),\n",
        "                  metrics=[\"AUC\"])\n",
        "  \n",
        "  return nn_model\n",
        "\n",
        "\n",
        "neural_network = KerasClassifier(build_fn=create_nn_model, \n",
        "                                 epochs=10)\n",
        "\n",
        "# Evaluate neural network using 5-fold cross-validation\n",
        "cv = StratifiedKFold(n_splits=5,shuffle=True,random_state=1)\n",
        "cross_val_score(neural_network, X_scaled_rus, y_rus, scoring='roc_auc', cv=cv)"
      ],
      "metadata": {
        "colab": {
          "base_uri": "https://localhost:8080/"
        },
        "id": "ZkicK921tpJl",
        "outputId": "daf26e98-8e02-45ed-ac8e-f0a91f80f292"
      },
      "execution_count": null,
      "outputs": [
        {
          "output_type": "stream",
          "name": "stderr",
          "text": [
            "/usr/local/lib/python3.7/dist-packages/ipykernel_launcher.py:42: DeprecationWarning: KerasClassifier is deprecated, use Sci-Keras (https://github.com/adriangb/scikeras) instead.\n"
          ]
        },
        {
          "output_type": "stream",
          "name": "stdout",
          "text": [
            "Epoch 1/10\n",
            "27/27 [==============================] - 1s 5ms/step - loss: 0.6915 - auc: 0.5386\n",
            "Epoch 2/10\n",
            "27/27 [==============================] - 0s 4ms/step - loss: 0.6792 - auc: 0.6074\n",
            "Epoch 3/10\n",
            "27/27 [==============================] - 0s 4ms/step - loss: 0.6766 - auc: 0.6373\n",
            "Epoch 4/10\n",
            "27/27 [==============================] - 0s 5ms/step - loss: 0.6407 - auc: 0.6840\n",
            "Epoch 5/10\n",
            "27/27 [==============================] - 0s 4ms/step - loss: 0.6062 - auc: 0.7312\n",
            "Epoch 6/10\n",
            "27/27 [==============================] - 0s 5ms/step - loss: 0.5848 - auc: 0.7632\n",
            "Epoch 7/10\n",
            "27/27 [==============================] - 0s 4ms/step - loss: 0.5654 - auc: 0.7733\n",
            "Epoch 8/10\n",
            "27/27 [==============================] - 0s 4ms/step - loss: 0.5425 - auc: 0.8030\n",
            "Epoch 9/10\n",
            "27/27 [==============================] - 0s 4ms/step - loss: 0.5409 - auc: 0.8013\n",
            "Epoch 10/10\n",
            "27/27 [==============================] - 0s 4ms/step - loss: 0.4969 - auc: 0.8382\n",
            "Epoch 1/10\n",
            "27/27 [==============================] - 1s 4ms/step - loss: 0.6926 - auc: 0.5505\n",
            "Epoch 2/10\n",
            "27/27 [==============================] - 0s 4ms/step - loss: 0.6781 - auc: 0.6222\n",
            "Epoch 3/10\n",
            "27/27 [==============================] - 0s 4ms/step - loss: 0.6614 - auc: 0.6339\n",
            "Epoch 4/10\n",
            "27/27 [==============================] - 0s 4ms/step - loss: 0.6378 - auc: 0.6769\n",
            "Epoch 5/10\n",
            "27/27 [==============================] - 0s 4ms/step - loss: 0.6177 - auc: 0.7085\n",
            "Epoch 6/10\n",
            "27/27 [==============================] - 0s 4ms/step - loss: 0.6134 - auc: 0.7263\n",
            "Epoch 7/10\n",
            "27/27 [==============================] - 0s 4ms/step - loss: 0.5772 - auc: 0.7670\n",
            "Epoch 8/10\n",
            "27/27 [==============================] - 0s 4ms/step - loss: 0.5632 - auc: 0.7682\n",
            "Epoch 9/10\n",
            "27/27 [==============================] - 0s 4ms/step - loss: 0.5423 - auc: 0.7940\n",
            "Epoch 10/10\n",
            "27/27 [==============================] - 0s 4ms/step - loss: 0.5069 - auc: 0.8330\n",
            "Epoch 1/10\n",
            "27/27 [==============================] - 1s 4ms/step - loss: 0.6907 - auc: 0.5507\n",
            "Epoch 2/10\n",
            "27/27 [==============================] - 0s 4ms/step - loss: 0.6757 - auc: 0.6258\n",
            "Epoch 3/10\n",
            "27/27 [==============================] - 0s 4ms/step - loss: 0.6630 - auc: 0.6375\n",
            "Epoch 4/10\n",
            "27/27 [==============================] - 0s 4ms/step - loss: 0.6359 - auc: 0.6931\n",
            "Epoch 5/10\n",
            "27/27 [==============================] - 0s 4ms/step - loss: 0.6190 - auc: 0.7130\n",
            "Epoch 6/10\n",
            "27/27 [==============================] - 0s 4ms/step - loss: 0.6058 - auc: 0.7314\n",
            "Epoch 7/10\n",
            "27/27 [==============================] - 0s 4ms/step - loss: 0.5816 - auc: 0.7670\n",
            "Epoch 8/10\n",
            "27/27 [==============================] - 0s 5ms/step - loss: 0.5322 - auc: 0.8089\n",
            "Epoch 9/10\n",
            "27/27 [==============================] - 0s 4ms/step - loss: 0.5106 - auc: 0.8278\n",
            "Epoch 10/10\n",
            "27/27 [==============================] - 0s 4ms/step - loss: 0.4638 - auc: 0.8589\n",
            "Epoch 1/10\n",
            "27/27 [==============================] - 2s 4ms/step - loss: 0.6908 - auc: 0.5494\n",
            "Epoch 2/10\n",
            "27/27 [==============================] - 0s 5ms/step - loss: 0.6892 - auc: 0.5817\n",
            "Epoch 3/10\n",
            "27/27 [==============================] - 0s 5ms/step - loss: 0.6766 - auc: 0.6209\n",
            "Epoch 4/10\n",
            "27/27 [==============================] - 0s 5ms/step - loss: 0.6571 - auc: 0.6525\n",
            "Epoch 5/10\n",
            "27/27 [==============================] - 0s 4ms/step - loss: 0.6468 - auc: 0.6756\n",
            "Epoch 6/10\n",
            "27/27 [==============================] - 0s 4ms/step - loss: 0.6397 - auc: 0.7051\n",
            "Epoch 7/10\n",
            "27/27 [==============================] - 0s 4ms/step - loss: 0.6063 - auc: 0.7367\n",
            "Epoch 8/10\n",
            "27/27 [==============================] - 0s 5ms/step - loss: 0.5907 - auc: 0.7503\n",
            "Epoch 9/10\n",
            "27/27 [==============================] - 0s 4ms/step - loss: 0.5606 - auc: 0.7865\n",
            "Epoch 10/10\n",
            "27/27 [==============================] - 0s 4ms/step - loss: 0.5283 - auc: 0.8093\n",
            "Epoch 1/10\n",
            "27/27 [==============================] - 1s 4ms/step - loss: 0.6932 - auc: 0.5557\n",
            "Epoch 2/10\n",
            "27/27 [==============================] - 0s 4ms/step - loss: 0.6806 - auc: 0.6341\n",
            "Epoch 3/10\n",
            "27/27 [==============================] - 0s 4ms/step - loss: 0.6569 - auc: 0.6609\n",
            "Epoch 4/10\n",
            "27/27 [==============================] - 0s 4ms/step - loss: 0.6358 - auc: 0.6905\n",
            "Epoch 5/10\n",
            "27/27 [==============================] - 0s 5ms/step - loss: 0.6097 - auc: 0.7296\n",
            "Epoch 6/10\n",
            "27/27 [==============================] - 0s 4ms/step - loss: 0.6148 - auc: 0.7371\n",
            "Epoch 7/10\n",
            "27/27 [==============================] - 0s 5ms/step - loss: 0.5524 - auc: 0.7916\n",
            "Epoch 8/10\n",
            "27/27 [==============================] - 0s 4ms/step - loss: 0.5308 - auc: 0.8081\n",
            "Epoch 9/10\n",
            "27/27 [==============================] - 0s 4ms/step - loss: 0.5130 - auc: 0.8236\n",
            "Epoch 10/10\n",
            "27/27 [==============================] - 0s 4ms/step - loss: 0.4818 - auc: 0.8498\n"
          ]
        },
        {
          "output_type": "execute_result",
          "data": {
            "text/plain": [
              "array([0.62686698, 0.57970376, 0.6122377 , 0.67025216, 0.62198025])"
            ]
          },
          "metadata": {},
          "execution_count": 71
        }
      ]
    }
  ]
}